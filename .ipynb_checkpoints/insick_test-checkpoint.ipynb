{
 "cells": [
  {
   "cell_type": "code",
   "execution_count": null,
   "metadata": {},
   "outputs": [],
   "source": [
    "import random\n",
    "import string\n",
    "import math\n",
    "import itertools\n",
    "import os\n",
    "\n",
    "import numpy as np\n",
    "import imgaug\n",
    "import matplotlib.pyplot as plt\n",
    "import tensorflow as tf\n",
    "import sklearn.model_selection\n",
    "\n",
    "import keras_ocr\n",
    "\n",
    "assert tf.test.is_gpu_available()\n",
    "\n",
    "train_labels = keras_ocr.datasets.get_born_digital_recognizer_dataset(\n",
    "    split='train',\n",
    "    cache_dir='.'\n",
    ")\n",
    "test_labels = keras_ocr.datasets.get_born_digital_recognizer_dataset(\n",
    "    split='test',\n",
    "    cache_dir='.'\n",
    ")\n",
    "train_labels = [(filepath, box, word.lower()) for filepath, box, word in train_labels]\n",
    "test_labels = [(filepath, box, word.lower()) for filepath, box, word in test_labels]"
   ]
  },
  {
   "cell_type": "code",
   "execution_count": null,
   "metadata": {},
   "outputs": [],
   "source": [
    "recognizer = keras_ocr.recognition.Recognizer()\n",
    "recognizer.compile()"
   ]
  },
  {
   "cell_type": "code",
   "execution_count": null,
   "metadata": {},
   "outputs": [],
   "source": [
    "batch_size = 8\n",
    "augmenter = imgaug.augmenters.Sequential([\n",
    "    imgaug.augmenters.GammaContrast(gamma=(0.25, 3.0)),\n",
    "])\n",
    "\n",
    "train_labels, validation_labels = sklearn.model_selection.train_test_split(train_labels, test_size=0.2, random_state=42)\n",
    "(training_image_gen, training_steps), (validation_image_gen, validation_steps) = [\n",
    "    (\n",
    "        keras_ocr.datasets.get_recognizer_image_generator(\n",
    "            labels=labels,\n",
    "            height=recognizer.model.input_shape[1],\n",
    "            width=recognizer.model.input_shape[2],\n",
    "            alphabet=recognizer.alphabet,\n",
    "            augmenter=augmenter\n",
    "        ),\n",
    "        len(labels) // batch_size\n",
    "    ) for labels, augmenter in [(train_labels, augmenter), (validation_labels, None)]\n",
    "]\n",
    "training_gen, validation_gen = [\n",
    "    recognizer.get_batch_generator(\n",
    "        image_generator=image_generator,\n",
    "        batch_size=batch_size\n",
    "    )\n",
    "    for image_generator in [training_image_gen, validation_image_gen]\n",
    "]"
   ]
  },
  {
   "cell_type": "code",
   "execution_count": null,
   "metadata": {},
   "outputs": [],
   "source": [
    "image, text = next(training_image_gen)\n",
    "print('text:', text)\n",
    "plt.imshow(image)"
   ]
  },
  {
   "cell_type": "code",
   "execution_count": null,
   "metadata": {},
   "outputs": [],
   "source": [
    "callbacks = [\n",
    "    tf.keras.callbacks.EarlyStopping(monitor='val_loss', min_delta=0, patience=10, restore_best_weights=False),\n",
    "    tf.keras.callbacks.ModelCheckpoint('recognizer_borndigital.h5', monitor='val_loss', save_best_only=True),\n",
    "    tf.keras.callbacks.CSVLogger('recognizer_borndigital.csv')\n",
    "]\n",
    "recognizer.training_model.fit_generator(\n",
    "    generator=training_gen,\n",
    "    steps_per_epoch=training_steps,\n",
    "    validation_steps=validation_steps,\n",
    "    validation_data=validation_gen,\n",
    "    callbacks=callbacks,\n",
    "    epochs=1000,\n",
    ")"
   ]
  },
  {
   "cell_type": "code",
   "execution_count": null,
   "metadata": {},
   "outputs": [],
   "source": [
    "image_filepath, _, actual = test_labels[1]\n",
    "predicted = recognizer.recognize(image_filepath)\n",
    "print(f'Predicted: {predicted}, Actual: {actual}')\n",
    "_ = plt.imshow(keras_ocr.tools.read(image_filepath))"
   ]
  },
  {
   "cell_type": "code",
   "execution_count": null,
   "metadata": {},
   "outputs": [],
   "source": []
  },
  {
   "cell_type": "code",
   "execution_count": null,
   "metadata": {},
   "outputs": [],
   "source": []
  }
 ],
 "metadata": {
  "kernelspec": {
   "display_name": "Python 3",
   "language": "python",
   "name": "python3"
  },
  "language_info": {
   "codemirror_mode": {
    "name": "ipython",
    "version": 3
   },
   "file_extension": ".py",
   "mimetype": "text/x-python",
   "name": "python",
   "nbconvert_exporter": "python",
   "pygments_lexer": "ipython3",
   "version": "3.7.6"
  }
 },
 "nbformat": 4,
 "nbformat_minor": 4
}

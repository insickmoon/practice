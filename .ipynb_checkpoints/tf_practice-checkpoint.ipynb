{
 "cells": [
  {
   "cell_type": "code",
   "execution_count": 1,
   "id": "f2600bdd-01ec-4215-8df2-acbc80533603",
   "metadata": {},
   "outputs": [],
   "source": [
    "import tensorflow as tf\n",
    "\n",
    "# MNIST 데이터를 다운로드 합니다.\n",
    "(x_train, y_train), (x_test, y_test) = tf.keras.datasets.mnist.load_data()\n",
    "# 이미지들을 float32 데이터 타입으로 변경합니다.\n",
    "x_train, x_test = x_train.astype('float32'), x_test.astype('float32')\n",
    "# 28*28 형태의 이미지를 784차원으로 flattening 합니다.\n",
    "x_train, x_test = x_train.reshape([-1, 784]), x_test.reshape([-1, 784])\n",
    "# [0, 255] 사이의 값을 [0, 1]사이의 값으로 Normalize합니다.\n",
    "x_train, x_test = x_train / 255., x_test / 255.\n",
    "# 레이블 데이터에 one-hot encoding을 적용합니다.\n",
    "y_train, y_test = tf.one_hot(y_train, depth=10), tf.one_hot(y_test, depth=10)"
   ]
  },
  {
   "cell_type": "code",
   "execution_count": 12,
   "id": "ff0acafb-52c2-4406-9419-061e9e521619",
   "metadata": {},
   "outputs": [
    {
     "data": {
      "text/plain": [
       "array([[0., 0., 0., ..., 0., 0., 0.],\n",
       "       [0., 0., 0., ..., 0., 0., 0.],\n",
       "       [0., 0., 0., ..., 0., 0., 0.],\n",
       "       ...,\n",
       "       [0., 0., 0., ..., 0., 0., 0.],\n",
       "       [0., 0., 0., ..., 0., 0., 0.],\n",
       "       [0., 0., 0., ..., 0., 0., 0.]], dtype=float32)"
      ]
     },
     "execution_count": 12,
     "metadata": {},
     "output_type": "execute_result"
    }
   ],
   "source": []
  },
  {
   "cell_type": "code",
   "execution_count": 1,
   "id": "58b34dd5-ef51-4071-9209-d9a2b333f46e",
   "metadata": {},
   "outputs": [
    {
     "name": "stdout",
     "output_type": "stream",
     "text": [
      "Downloading data from https://storage.googleapis.com/tensorflow/tf-keras-datasets/mnist.npz\n",
      "11493376/11490434 [==============================] - 2s 0us/step\n",
      "11501568/11490434 [==============================] - 2s 0us/step\n",
      "Metal device set to: Apple M1\n"
     ]
    },
    {
     "name": "stderr",
     "output_type": "stream",
     "text": [
      "2021-12-07 21:17:13.370520: I tensorflow/core/common_runtime/pluggable_device/pluggable_device_factory.cc:305] Could not identify NUMA node of platform GPU ID 0, defaulting to 0. Your kernel may not have been built with NUMA support.\n",
      "2021-12-07 21:17:13.371138: I tensorflow/core/common_runtime/pluggable_device/pluggable_device_factory.cc:271] Created TensorFlow device (/job:localhost/replica:0/task:0/device:GPU:0 with 0 MB memory) -> physical PluggableDevice (device: 0, name: METAL, pci bus id: <undefined>)\n"
     ]
    }
   ],
   "source": [
    "# tf.data API를 이용해서 데이터를 섞고 batch 형태로 가져옵니다.\n",
    "train_data = tf.data.Dataset.from_tensor_slices((x_train, y_train))\n",
    "train_data = train_data.repeat().shuffle(60000).batch(100)\n",
    "train_data_iter = iter(train_data)"
   ]
  },
  {
   "cell_type": "code",
   "execution_count": 2,
   "id": "f983f34b-2fe1-4715-baa7-2347455e36a5",
   "metadata": {},
   "outputs": [],
   "source": [
    "# tf.keras.Model을 이용해서 Softmax Regression 모델을 정의합니다.\n",
    "class SoftmaxRegression(tf.keras.Model):\n",
    "  def __init__(self):\n",
    "    super(SoftmaxRegression, self).__init__()\n",
    "    self.softmax_layer = tf.keras.layers.Dense(10,\n",
    "                                               activation=None,\n",
    "                                               kernel_initializer='zeros',\n",
    "                                               bias_initializer='zeros')\n",
    "\n",
    "  def call(self, x):\n",
    "    logits = self.softmax_layer(x)\n",
    "\n",
    "    return tf.nn.softmax(logits)"
   ]
  },
  {
   "cell_type": "code",
   "execution_count": 3,
   "id": "6e45ab2e-7c98-429d-b82d-8b976614f29b",
   "metadata": {},
   "outputs": [],
   "source": [
    "# cross-entropy 손실 함수를 정의합니다.\n",
    "@tf.function\n",
    "def cross_entropy_loss(y_pred, y):\n",
    "  return tf.reduce_mean(-tf.reduce_sum(y * tf.math.log(y_pred), axis=[1]))\n",
    "  #return tf.reduce_mean(tf.nn.softmax_cross_entropy_with_logits(logits=logtis, labels=y)) # tf.nn.softmax_cross_entropy_with_logits API를 이용한 구현"
   ]
  },
  {
   "cell_type": "code",
   "execution_count": 4,
   "id": "b497fe96-574e-4fb1-9a32-780a5607006a",
   "metadata": {},
   "outputs": [],
   "source": [
    "# 최적화를 위한 그라디언트 디센트 옵티마이저를 정의합니다.\n",
    "optimizer = tf.optimizers.SGD(0.5)"
   ]
  },
  {
   "cell_type": "code",
   "execution_count": 5,
   "id": "328e2d16-33b0-4040-ae05-5fd8bf5844ce",
   "metadata": {},
   "outputs": [],
   "source": [
    "# 최적화를 위한 function을 정의합니다.\n",
    "@tf.function\n",
    "def train_step(model, x, y):\n",
    "  with tf.GradientTape() as tape:\n",
    "    y_pred = model(x)\n",
    "    loss = cross_entropy_loss(y_pred, y)\n",
    "  gradients = tape.gradient(loss, model.trainable_variables)\n",
    "  optimizer.apply_gradients(zip(gradients, model.trainable_variables))"
   ]
  },
  {
   "cell_type": "code",
   "execution_count": 6,
   "id": "525ae5f5-616f-4b94-944d-5a9458352455",
   "metadata": {},
   "outputs": [],
   "source": [
    "# 모델의 정확도를 출력하는 함수를 정의합니다.\n",
    "@tf.function\n",
    "def compute_accuracy(y_pred, y):\n",
    "  correct_prediction = tf.equal(tf.argmax(y_pred,1), tf.argmax(y,1))\n",
    "  accuracy = tf.reduce_mean(tf.cast(correct_prediction, tf.float32))\n",
    "\n",
    "  return accuracy"
   ]
  },
  {
   "cell_type": "code",
   "execution_count": 7,
   "id": "0619c379-960a-43dd-9bcf-bf7b1e1c7464",
   "metadata": {},
   "outputs": [],
   "source": [
    "# SoftmaxRegression 모델을 선언합니다.\n",
    "SoftmaxRegression_model = SoftmaxRegression()"
   ]
  },
  {
   "cell_type": "code",
   "execution_count": 10,
   "id": "5256ad15-1a0f-4eaf-b62a-165e49d386ec",
   "metadata": {},
   "outputs": [],
   "source": [
    "# 1000번 반복을 수행하면서 최적화를 수행합니다.\n",
    "for i in range(10000):\n",
    "  batch_xs, batch_ys = next(train_data_iter)\n",
    "  train_step(SoftmaxRegression_model, batch_xs, batch_ys)"
   ]
  },
  {
   "cell_type": "code",
   "execution_count": 11,
   "id": "2db5b40c-6849-43ae-af64-adebb278b4d7",
   "metadata": {},
   "outputs": [
    {
     "name": "stdout",
     "output_type": "stream",
     "text": [
      "정확도(Accuracy): 0.925700\n"
     ]
    }
   ],
   "source": [
    "# 학습이 끝나면 학습된 모델의 정확도를 출력합니다.\n",
    "print(\"정확도(Accuracy): %f\" % compute_accuracy(SoftmaxRegression_model(x_test), y_test)) # 정확도 : 약 91%"
   ]
  },
  {
   "cell_type": "code",
   "execution_count": null,
   "id": "06e4bb4f-7ed7-4b0b-b790-2e6ffe023b4a",
   "metadata": {},
   "outputs": [],
   "source": []
  },
  {
   "cell_type": "code",
   "execution_count": 19,
   "id": "a6c02e0d-67a5-4a7e-91af-89b83cf9fc4b",
   "metadata": {},
   "outputs": [],
   "source": [
    "code = iter([\"HTML\", \"CSS\", \"JS\"])"
   ]
  },
  {
   "cell_type": "code",
   "execution_count": 25,
   "id": "e387c915-26ab-45a8-9cd8-ec41e6da0f95",
   "metadata": {},
   "outputs": [
    {
     "data": {
      "text/plain": [
       "10"
      ]
     },
     "execution_count": 25,
     "metadata": {},
     "output_type": "execute_result"
    }
   ],
   "source": [
    "next(code,10)"
   ]
  },
  {
   "cell_type": "code",
   "execution_count": null,
   "id": "8b7391a7-64a1-48ef-a1e1-b2b2fea31671",
   "metadata": {},
   "outputs": [],
   "source": []
  }
 ],
 "metadata": {
  "kernelspec": {
   "display_name": "Python 3 (ipykernel)",
   "language": "python",
   "name": "python3"
  },
  "language_info": {
   "codemirror_mode": {
    "name": "ipython",
    "version": 3
   },
   "file_extension": ".py",
   "mimetype": "text/x-python",
   "name": "python",
   "nbconvert_exporter": "python",
   "pygments_lexer": "ipython3",
   "version": "3.9.7"
  }
 },
 "nbformat": 4,
 "nbformat_minor": 5
}
